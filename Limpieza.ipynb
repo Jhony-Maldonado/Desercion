{
 "cells": [
  {
   "cell_type": "code",
   "execution_count": 1,
   "id": "abdaab06",
   "metadata": {},
   "outputs": [],
   "source": [
    "#Importar pandas\n",
    "import pandas as pd"
   ]
  },
  {
   "cell_type": "code",
   "execution_count": 2,
   "id": "976b71bf",
   "metadata": {},
   "outputs": [],
   "source": [
    "#Creación df desde el csv: DESERCION_DE_LA_FORMACI_N_PROFESIONAL_INTEGRAL_20250419\n",
    "df = pd.read_csv(\"DESERCION_DE_LA_FORMACI_N_PROFESIONAL_INTEGRAL_20250419.csv\")"
   ]
  },
  {
   "cell_type": "code",
   "execution_count": 3,
   "id": "d3aeea5a",
   "metadata": {},
   "outputs": [
    {
     "data": {
      "text/plain": [
       "(42080, 15)"
      ]
     },
     "execution_count": 3,
     "metadata": {},
     "output_type": "execute_result"
    }
   ],
   "source": [
    "#Analisis de la dimension de las filas y columnas\n",
    "df.shape"
   ]
  },
  {
   "cell_type": "code",
   "execution_count": 4,
   "id": "4f31d0bb",
   "metadata": {},
   "outputs": [
    {
     "name": "stdout",
     "output_type": "stream",
     "text": [
      "<class 'pandas.core.frame.DataFrame'>\n",
      "RangeIndex: 42080 entries, 0 to 42079\n",
      "Data columns (total 15 columns):\n",
      " #   Column                         Non-Null Count  Dtype \n",
      "---  ------                         --------------  ----- \n",
      " 0   CODIGO_REGIONAL                42080 non-null  int64 \n",
      " 1   NOMBRE_REGIONAL                42080 non-null  object\n",
      " 2   CODIGO_CENTRO                  42080 non-null  int64 \n",
      " 3   NOMBRE_CENTRO                  42080 non-null  object\n",
      " 4   IDENTIFICADOR_UNICO_FICHA      42080 non-null  int64 \n",
      " 5   FECHA_INICIO_FICHA             42080 non-null  object\n",
      " 6   FECHA_TERMINACION_FICHA        42080 non-null  object\n",
      " 7   CODIGO_PROGRAMA                42080 non-null  object\n",
      " 8   VERSION_PROGRAMA               42080 non-null  int64 \n",
      " 9   NOMBRE_PROGRAMA_FORMACION      42080 non-null  object\n",
      " 10  NIVEL_FORMACION                42080 non-null  object\n",
      " 11  MODALIDAD_FORMACION            42080 non-null  object\n",
      " 12  TOTAL_APRENDICES_MATRICULADOS  42080 non-null  int64 \n",
      " 13  DESERTORES_AÑO_ACTUAL          42080 non-null  int64 \n",
      " 14  PERIODO                        42080 non-null  int64 \n",
      "dtypes: int64(7), object(8)\n",
      "memory usage: 4.8+ MB\n"
     ]
    }
   ],
   "source": [
    "#Acceder a informacion del data set\n",
    "df.info()"
   ]
  },
  {
   "cell_type": "code",
   "execution_count": 5,
   "id": "be953975",
   "metadata": {},
   "outputs": [],
   "source": [
    "# Eliminar la columna VERSION_PROGRAMA\n",
    "df_cleaned = df.drop(columns='VERSION_PROGRAMA')"
   ]
  },
  {
   "cell_type": "code",
   "execution_count": 6,
   "id": "9183d748",
   "metadata": {},
   "outputs": [
    {
     "name": "stdout",
     "output_type": "stream",
     "text": [
      "<class 'pandas.core.frame.DataFrame'>\n",
      "RangeIndex: 42080 entries, 0 to 42079\n",
      "Data columns (total 14 columns):\n",
      " #   Column                         Non-Null Count  Dtype \n",
      "---  ------                         --------------  ----- \n",
      " 0   CODIGO_REGIONAL                42080 non-null  int64 \n",
      " 1   NOMBRE_REGIONAL                42080 non-null  object\n",
      " 2   CODIGO_CENTRO                  42080 non-null  int64 \n",
      " 3   NOMBRE_CENTRO                  42080 non-null  object\n",
      " 4   IDENTIFICADOR_UNICO_FICHA      42080 non-null  int64 \n",
      " 5   FECHA_INICIO_FICHA             42080 non-null  object\n",
      " 6   FECHA_TERMINACION_FICHA        42080 non-null  object\n",
      " 7   CODIGO_PROGRAMA                42080 non-null  object\n",
      " 8   NOMBRE_PROGRAMA_FORMACION      42080 non-null  object\n",
      " 9   NIVEL_FORMACION                42080 non-null  object\n",
      " 10  MODALIDAD_FORMACION            42080 non-null  object\n",
      " 11  TOTAL_APRENDICES_MATRICULADOS  42080 non-null  int64 \n",
      " 12  DESERTORES_AÑO_ACTUAL          42080 non-null  int64 \n",
      " 13  PERIODO                        42080 non-null  int64 \n",
      "dtypes: int64(6), object(8)\n",
      "memory usage: 4.5+ MB\n"
     ]
    }
   ],
   "source": [
    "#Acceder a informacion del data set\n",
    "df_cleaned.info()"
   ]
  },
  {
   "cell_type": "code",
   "execution_count": 7,
   "id": "729713c5",
   "metadata": {},
   "outputs": [],
   "source": [
    "# Renombrar las columnas que lleven la palabra CODIGO por COD, NOMBRE por NOM e IDENTIFICADOR por IDENT\n",
    "df_cleaned.rename(columns={'CODIGO_REGIONAL':'COD_REGIONAL'},inplace=True)\n",
    "df_cleaned.rename(columns={'NOMBRE_REGIONAL':'NOM_REGIONAL'},inplace=True)\n",
    "df_cleaned.rename(columns={'CODIGO_CENTRO':'COD_CENTRO'},inplace=True)\n",
    "df_cleaned.rename(columns={'NOMBRE_CENTRO':'NOM_CENTRO'},inplace=True)\n",
    "df_cleaned.rename(columns={'IDENTIFICADOR_UNICO_FICHA':'IDENT_UNICO_FICHA'},inplace=True)\n",
    "df_cleaned.rename(columns={'CODIGO_PROGRAMA':'COD_PROGRAMA'},inplace=True)\n",
    "df_cleaned.rename(columns={'NOMBRE_PROGRAMA_FORMACION':'NOM_PROGRAMA_FORMACION'},inplace=True)"
   ]
  },
  {
   "cell_type": "code",
   "execution_count": 8,
   "id": "3edec541",
   "metadata": {},
   "outputs": [
    {
     "name": "stdout",
     "output_type": "stream",
     "text": [
      "<class 'pandas.core.frame.DataFrame'>\n",
      "RangeIndex: 42080 entries, 0 to 42079\n",
      "Data columns (total 14 columns):\n",
      " #   Column                         Non-Null Count  Dtype \n",
      "---  ------                         --------------  ----- \n",
      " 0   COD_REGIONAL                   42080 non-null  int64 \n",
      " 1   NOM_REGIONAL                   42080 non-null  object\n",
      " 2   COD_CENTRO                     42080 non-null  int64 \n",
      " 3   NOM_CENTRO                     42080 non-null  object\n",
      " 4   IDENT_UNICO_FICHA              42080 non-null  int64 \n",
      " 5   FECHA_INICIO_FICHA             42080 non-null  object\n",
      " 6   FECHA_TERMINACION_FICHA        42080 non-null  object\n",
      " 7   COD_PROGRAMA                   42080 non-null  object\n",
      " 8   NOM_PROGRAMA_FORMACION         42080 non-null  object\n",
      " 9   NIVEL_FORMACION                42080 non-null  object\n",
      " 10  MODALIDAD_FORMACION            42080 non-null  object\n",
      " 11  TOTAL_APRENDICES_MATRICULADOS  42080 non-null  int64 \n",
      " 12  DESERTORES_AÑO_ACTUAL          42080 non-null  int64 \n",
      " 13  PERIODO                        42080 non-null  int64 \n",
      "dtypes: int64(6), object(8)\n",
      "memory usage: 4.5+ MB\n"
     ]
    }
   ],
   "source": [
    "#Acceder a informacion del data set\n",
    "df_cleaned.info()"
   ]
  },
  {
   "cell_type": "code",
   "execution_count": 9,
   "id": "939fd8cf",
   "metadata": {},
   "outputs": [
    {
     "name": "stdout",
     "output_type": "stream",
     "text": [
      "<class 'pandas.core.frame.DataFrame'>\n",
      "RangeIndex: 42080 entries, 0 to 42079\n",
      "Data columns (total 14 columns):\n",
      " #   Column                         Non-Null Count  Dtype \n",
      "---  ------                         --------------  ----- \n",
      " 0   COD_REGIONAL                   42080 non-null  string\n",
      " 1   NOM_REGIONAL                   42080 non-null  string\n",
      " 2   COD_CENTRO                     42080 non-null  string\n",
      " 3   NOM_CENTRO                     42080 non-null  string\n",
      " 4   IDENT_UNICO_FICHA              42080 non-null  int64 \n",
      " 5   FECHA_INICIO_FICHA             42080 non-null  object\n",
      " 6   FECHA_TERMINACION_FICHA        42080 non-null  object\n",
      " 7   COD_PROGRAMA                   42080 non-null  object\n",
      " 8   NOM_PROGRAMA_FORMACION         42080 non-null  string\n",
      " 9   NIVEL_FORMACION                42080 non-null  string\n",
      " 10  MODALIDAD_FORMACION            42080 non-null  string\n",
      " 11  TOTAL_APRENDICES_MATRICULADOS  42080 non-null  int64 \n",
      " 12  DESERTORES_AÑO_ACTUAL          42080 non-null  int64 \n",
      " 13  PERIODO                        42080 non-null  int64 \n",
      "dtypes: int64(4), object(3), string(7)\n",
      "memory usage: 4.5+ MB\n"
     ]
    }
   ],
   "source": [
    "# Modificar DataTypes\n",
    "df_cleaned['NOM_REGIONAL'] = df_cleaned['NOM_REGIONAL'].astype('string')\n",
    "df_cleaned['NOM_CENTRO'] = df_cleaned['NOM_CENTRO'].astype('string')\n",
    "df_cleaned['NOM_PROGRAMA_FORMACION'] = df_cleaned['NOM_PROGRAMA_FORMACION'].astype('string')\n",
    "df_cleaned['NIVEL_FORMACION'] = df_cleaned['NIVEL_FORMACION'].astype('string')\n",
    "df_cleaned['MODALIDAD_FORMACION'] = df_cleaned['MODALIDAD_FORMACION'].astype('string')\n",
    "df_cleaned['COD_CENTRO'] = df_cleaned['COD_CENTRO'].astype('string')\n",
    "df_cleaned['COD_REGIONAL'] = df_cleaned['COD_REGIONAL'].astype('string')\n",
    "df_cleaned.info()"
   ]
  },
  {
   "cell_type": "code",
   "execution_count": 10,
   "id": "a1ca15e8",
   "metadata": {},
   "outputs": [],
   "source": [
    "# Remueve la filas con campos nulos\n",
    "df_cleaned.dropna(subset=[\"FECHA_INICIO_FICHA\"], inplace = True)"
   ]
  },
  {
   "cell_type": "code",
   "execution_count": 11,
   "id": "47d7363d",
   "metadata": {},
   "outputs": [
    {
     "data": {
      "text/plain": [
       "['\"REGIONAL AMAZONAS\"',\n",
       " '\"REGIONAL ANTIOQUIA\"',\n",
       " '\"REGIONAL ARAUCA\"',\n",
       " '\"REGIONAL ATLANTICO\"',\n",
       " '\"REGIONAL BOLIVAR\"',\n",
       " '\"REGIONAL BOYACA\"',\n",
       " '\"REGIONAL CALDAS\"',\n",
       " '\"REGIONAL CAQUETA\"',\n",
       " '\"REGIONAL CASANARE\"',\n",
       " '\"REGIONAL CAUCA\"',\n",
       " '\"REGIONAL CESAR\"',\n",
       " '\"REGIONAL CHOCO\"',\n",
       " '\"REGIONAL CORDOBA\"',\n",
       " '\"REGIONAL CUNDINAMARCA\"',\n",
       " '\"REGIONAL DISTRITO CAPITAL\"',\n",
       " '\"REGIONAL GUAINIA\"',\n",
       " '\"REGIONAL GUAJIRA\"',\n",
       " '\"REGIONAL GUAVIARE\"',\n",
       " '\"REGIONAL HUILA\"',\n",
       " '\"REGIONAL MAGDALENA\"',\n",
       " '\"REGIONAL META\"',\n",
       " '\"REGIONAL NARIÑO\"',\n",
       " '\"REGIONAL NORTE DE SANTANDER\"',\n",
       " '\"REGIONAL PUTUMAYO\"',\n",
       " '\"REGIONAL QUINDIO\"',\n",
       " '\"REGIONAL RISARALDA\"',\n",
       " '\"REGIONAL SAN ANDRES\"',\n",
       " '\"REGIONAL SANTANDER\"',\n",
       " '\"REGIONAL SUCRE\"',\n",
       " '\"REGIONAL TOLIMA\"',\n",
       " '\"REGIONAL VALLE\"',\n",
       " '\"REGIONAL VAUPES\"',\n",
       " '\"REGIONAL VICHADA\"']"
      ]
     },
     "execution_count": 11,
     "metadata": {},
     "output_type": "execute_result"
    }
   ],
   "source": [
    "# Genera un listado de las variables de la columna NOM_REGIONAL\n",
    "sorted(df_cleaned.NOM_REGIONAL.unique())"
   ]
  },
  {
   "cell_type": "code",
   "execution_count": 12,
   "id": "0d0d322b",
   "metadata": {},
   "outputs": [],
   "source": [
    "# Cambia el nombre de la REGIONAL DISTRITO CAPITAL a REGIONAL BOGOTA\n",
    "df_cleaned.NOM_REGIONAL =df_cleaned.NOM_REGIONAL.replace('\"REGIONAL DISTRITO CAPITAL\"', 'REGIONAL BOGOTA')"
   ]
  },
  {
   "cell_type": "code",
   "execution_count": 13,
   "id": "87e07486",
   "metadata": {},
   "outputs": [
    {
     "data": {
      "text/plain": [
       "['\"REGIONAL AMAZONAS\"',\n",
       " '\"REGIONAL ANTIOQUIA\"',\n",
       " '\"REGIONAL ARAUCA\"',\n",
       " '\"REGIONAL ATLANTICO\"',\n",
       " '\"REGIONAL BOLIVAR\"',\n",
       " '\"REGIONAL BOYACA\"',\n",
       " '\"REGIONAL CALDAS\"',\n",
       " '\"REGIONAL CAQUETA\"',\n",
       " '\"REGIONAL CASANARE\"',\n",
       " '\"REGIONAL CAUCA\"',\n",
       " '\"REGIONAL CESAR\"',\n",
       " '\"REGIONAL CHOCO\"',\n",
       " '\"REGIONAL CORDOBA\"',\n",
       " '\"REGIONAL CUNDINAMARCA\"',\n",
       " '\"REGIONAL GUAINIA\"',\n",
       " '\"REGIONAL GUAJIRA\"',\n",
       " '\"REGIONAL GUAVIARE\"',\n",
       " '\"REGIONAL HUILA\"',\n",
       " '\"REGIONAL MAGDALENA\"',\n",
       " '\"REGIONAL META\"',\n",
       " '\"REGIONAL NARIÑO\"',\n",
       " '\"REGIONAL NORTE DE SANTANDER\"',\n",
       " '\"REGIONAL PUTUMAYO\"',\n",
       " '\"REGIONAL QUINDIO\"',\n",
       " '\"REGIONAL RISARALDA\"',\n",
       " '\"REGIONAL SAN ANDRES\"',\n",
       " '\"REGIONAL SANTANDER\"',\n",
       " '\"REGIONAL SUCRE\"',\n",
       " '\"REGIONAL TOLIMA\"',\n",
       " '\"REGIONAL VALLE\"',\n",
       " '\"REGIONAL VAUPES\"',\n",
       " '\"REGIONAL VICHADA\"',\n",
       " 'REGIONAL BOGOTA']"
      ]
     },
     "execution_count": 13,
     "metadata": {},
     "output_type": "execute_result"
    }
   ],
   "source": [
    "# Genera un listado de las variables de la columna NOM_REGIONAL\n",
    "sorted(df_cleaned.NOM_REGIONAL.unique())"
   ]
  },
  {
   "cell_type": "code",
   "execution_count": 14,
   "id": "25dcc3c3",
   "metadata": {},
   "outputs": [
    {
     "data": {
      "text/plain": [
       "['\"A DISTANCIA\"', '\"PRESENCIAL\"', '\"VIRTUAL\"']"
      ]
     },
     "execution_count": 14,
     "metadata": {},
     "output_type": "execute_result"
    }
   ],
   "source": [
    "# Genera un listado de las variables de la columna MODALIDAD_FORMACION\n",
    "sorted(df_cleaned.MODALIDAD_FORMACION.unique())"
   ]
  },
  {
   "cell_type": "code",
   "execution_count": 15,
   "id": "064edb72",
   "metadata": {},
   "outputs": [],
   "source": [
    "# Cambia el nombre de la variable A DISTANCIA por DISTACIA de la columna MODALIDAD_FORMACION\n",
    "df_cleaned.MODALIDAD_FORMACION =df_cleaned.MODALIDAD_FORMACION.replace('\"A DISTANCIA\"', 'DISTANCIA')"
   ]
  },
  {
   "cell_type": "code",
   "execution_count": 16,
   "id": "454bd8b8",
   "metadata": {},
   "outputs": [
    {
     "data": {
      "text/plain": [
       "['\"PRESENCIAL\"', '\"VIRTUAL\"', 'DISTANCIA']"
      ]
     },
     "execution_count": 16,
     "metadata": {},
     "output_type": "execute_result"
    }
   ],
   "source": [
    "# Genera un listado de las variables de la columna MODALIDAD_FORMACION\n",
    "sorted(df_cleaned.MODALIDAD_FORMACION.unique())"
   ]
  },
  {
   "cell_type": "code",
   "execution_count": 17,
   "id": "7c9f6585",
   "metadata": {},
   "outputs": [
    {
     "data": {
      "text/plain": [
       "(42080, 14)"
      ]
     },
     "execution_count": 17,
     "metadata": {},
     "output_type": "execute_result"
    }
   ],
   "source": [
    "#Analisis de la dimension de las filas y columnas\n",
    "df_cleaned.shape"
   ]
  },
  {
   "cell_type": "code",
   "execution_count": 18,
   "id": "5f35f4f4",
   "metadata": {},
   "outputs": [
    {
     "name": "stdout",
     "output_type": "stream",
     "text": [
      "<class 'pandas.core.frame.DataFrame'>\n",
      "RangeIndex: 42080 entries, 0 to 42079\n",
      "Data columns (total 14 columns):\n",
      " #   Column                         Non-Null Count  Dtype \n",
      "---  ------                         --------------  ----- \n",
      " 0   COD_REGIONAL                   42080 non-null  string\n",
      " 1   NOM_REGIONAL                   42080 non-null  string\n",
      " 2   COD_CENTRO                     42080 non-null  string\n",
      " 3   NOM_CENTRO                     42080 non-null  string\n",
      " 4   IDENT_UNICO_FICHA              42080 non-null  int64 \n",
      " 5   FECHA_INICIO_FICHA             42080 non-null  object\n",
      " 6   FECHA_TERMINACION_FICHA        42080 non-null  object\n",
      " 7   COD_PROGRAMA                   42080 non-null  object\n",
      " 8   NOM_PROGRAMA_FORMACION         42080 non-null  string\n",
      " 9   NIVEL_FORMACION                42080 non-null  string\n",
      " 10  MODALIDAD_FORMACION            42080 non-null  string\n",
      " 11  TOTAL_APRENDICES_MATRICULADOS  42080 non-null  int64 \n",
      " 12  DESERTORES_AÑO_ACTUAL          42080 non-null  int64 \n",
      " 13  PERIODO                        42080 non-null  int64 \n",
      "dtypes: int64(4), object(3), string(7)\n",
      "memory usage: 4.5+ MB\n"
     ]
    }
   ],
   "source": [
    "#Acceder a informacion del data set\n",
    "df_cleaned.info()"
   ]
  },
  {
   "cell_type": "code",
   "execution_count": 20,
   "id": "ddd00193",
   "metadata": {},
   "outputs": [
    {
     "name": "stdout",
     "output_type": "stream",
     "text": [
      "\n",
      "El archivo CSV ha sido guardado.\n"
     ]
    }
   ],
   "source": [
    "df_cleaned.to_csv(\"Desercion_Clean.csv\",index=False)\n",
    "print(\"\\nEl archivo CSV ha sido guardado.\")"
   ]
  },
  {
   "cell_type": "code",
   "execution_count": null,
   "id": "95f26bc4",
   "metadata": {},
   "outputs": [],
   "source": []
  }
 ],
 "metadata": {
  "kernelspec": {
   "display_name": "Python 3",
   "language": "python",
   "name": "python3"
  },
  "language_info": {
   "codemirror_mode": {
    "name": "ipython",
    "version": 3
   },
   "file_extension": ".py",
   "mimetype": "text/x-python",
   "name": "python",
   "nbconvert_exporter": "python",
   "pygments_lexer": "ipython3",
   "version": "3.13.3"
  }
 },
 "nbformat": 4,
 "nbformat_minor": 5
}
